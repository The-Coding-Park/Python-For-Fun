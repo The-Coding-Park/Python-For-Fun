{
 "cells": [
  {
   "cell_type": "markdown",
   "metadata": {},
   "source": [
    "# ***Python Data Types***"
   ]
  },
  {
   "cell_type": "markdown",
   "metadata": {},
   "source": [
    "#### ***Integers<br />Float<br/>Complex<br/>Strings<br/>List<br/>Tuple<br/>Set<br/>Dictionary***"
   ]
  },
  {
   "cell_type": "code",
   "execution_count": 27,
   "metadata": {},
   "outputs": [
    {
     "name": "stdout",
     "output_type": "stream",
     "text": [
      "468\n",
      "18275\n",
      "43\n",
      "9\n"
     ]
    }
   ],
   "source": [
    "#integer \n",
    "a=43\n",
    "b=425\n",
    "print(a+b)\n",
    "print(a*b)\n",
    "print(a%b)\n",
    "print(b//a)"
   ]
  },
  {
   "cell_type": "code",
   "execution_count": 8,
   "metadata": {},
   "outputs": [
    {
     "name": "stdout",
     "output_type": "stream",
     "text": [
      "468.46450000000004\n",
      "18382.887435\n",
      "43.23\n",
      "9.0\n"
     ]
    }
   ],
   "source": [
    "#float\n",
    "a=43.23\n",
    "b=425.2345\n",
    "print(type(a))\n",
    "print(a+b)\n",
    "print(a*b)\n",
    "print(a%b)\n",
    "print(b//a)"
   ]
  },
  {
   "cell_type": "code",
   "execution_count": 17,
   "metadata": {},
   "outputs": [
    {
     "name": "stdout",
     "output_type": "stream",
     "text": [
      "<class 'complex'>\n",
      "(123+24j)\n",
      "(23+2j)\n"
     ]
    }
   ],
   "source": [
    "#complex numbera\n",
    "d=complex(123,24)\n",
    "print(type(d))\n",
    "print(d)\n",
    "print(complex(23,2))\n"
   ]
  },
  {
   "cell_type": "code",
   "execution_count": 13,
   "metadata": {},
   "outputs": [
    {
     "name": "stdin",
     "output_type": "stream",
     "text": [
      "Enter your name:  gunjan\n"
     ]
    },
    {
     "name": "stdout",
     "output_type": "stream",
     "text": [
      "my name is  gunjan\n"
     ]
    }
   ],
   "source": [
    "#string\n",
    "s=input(\"Enter your name: \")\n",
    "print(\"my name is \", s)"
   ]
  },
  {
   "cell_type": "code",
   "execution_count": 20,
   "metadata": {},
   "outputs": [
    {
     "name": "stdout",
     "output_type": "stream",
     "text": [
      "['gunjan', 'uem', 'jaipur']\n",
      "enter element in the list: \n"
     ]
    },
    {
     "name": "stdin",
     "output_type": "stream",
     "text": [
      "element:  eq\n",
      "element:  sd\n",
      "element:  fsd\n",
      "element:  f\n",
      "element:  sd\n",
      "element:  sd\n",
      "element:  g\n",
      "element:  fg\n",
      "element:  fdg\n",
      "element:  \n"
     ]
    },
    {
     "name": "stdout",
     "output_type": "stream",
     "text": [
      "['eq', 'sd', 'fsd', 'f', 'sd', 'sd', 'g', 'fg', 'fdg', '']\n"
     ]
    }
   ],
   "source": [
    "#list\n",
    "s=['gunjan','uem', 'jaipur']\n",
    "print(s)\n",
    "d=[]\n",
    "print(\"enter element in the list: \")\n",
    "for i in range(10):\n",
    "    d.append(input(\"element: \"))\n",
    "print(d)"
   ]
  },
  {
   "cell_type": "code",
   "execution_count": 4,
   "metadata": {},
   "outputs": [
    {
     "name": "stdout",
     "output_type": "stream",
     "text": [
      "False\n",
      "False\n"
     ]
    }
   ],
   "source": [
    "#The Identity Operator\n",
    "a=['school','college','game']\n",
    "b=['cricket','footbal','baseball']\n",
    "print(a is b)\n",
    "print(b==a)"
   ]
  },
  {
   "cell_type": "code",
   "execution_count": 5,
   "metadata": {},
   "outputs": [
    {
     "name": "stdout",
     "output_type": "stream",
     "text": [
      "False\n"
     ]
    }
   ],
   "source": [
    "#The Membership Operator\n",
    "b=['cricket','footbal','baseball']\n",
    "print(\"bowling\" in b)"
   ]
  },
  {
   "cell_type": "code",
   "execution_count": 2,
   "metadata": {},
   "outputs": [
    {
     "name": "stdout",
     "output_type": "stream",
     "text": [
      "blue green blue\n",
      "blue green green\n",
      "green green green\n"
     ]
    }
   ],
   "source": [
    "#Object References\n",
    "x = \"blue\"\n",
    "y = \"green\"\n",
    "z = x\n",
    "print(x, y, z) \n",
    "z = y\n",
    "print(x, y, z) \n",
    "x = z\n",
    "print(x, y, z)"
   ]
  },
  {
   "cell_type": "code",
   "execution_count": null,
   "metadata": {},
   "outputs": [],
   "source": []
  },
  {
   "cell_type": "code",
   "execution_count": null,
   "metadata": {},
   "outputs": [],
   "source": []
  }
 ],
 "metadata": {
  "kernelspec": {
   "display_name": "Python 3",
   "language": "python",
   "name": "python3"
  },
  "language_info": {
   "codemirror_mode": {
    "name": "ipython",
    "version": 3
   },
   "file_extension": ".py",
   "mimetype": "text/x-python",
   "name": "python",
   "nbconvert_exporter": "python",
   "pygments_lexer": "ipython3",
   "version": "3.7.3"
  }
 },
 "nbformat": 4,
 "nbformat_minor": 2
}
