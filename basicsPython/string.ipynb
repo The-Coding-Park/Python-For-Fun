{
 "cells": [
  {
   "cell_type": "markdown",
   "metadata": {},
   "source": [
    "# string input"
   ]
  },
  {
   "cell_type": "code",
   "execution_count": null,
   "metadata": {},
   "outputs": [],
   "source": [
    "str=input(\"enter a string: \")\n",
    "print(\"your string is \",\"'\",str,\"'\")"
   ]
  },
  {
   "cell_type": "markdown",
   "metadata": {},
   "source": [
    "# functions"
   ]
  },
  {
   "cell_type": "code",
   "execution_count": null,
   "metadata": {},
   "outputs": [],
   "source": [
    "\n",
    "print(\"Converts the first character to upper case: \",str.capitalize())\n",
    "print(\"Converts string into lower case: \",str.casefold())\n",
    "print(\"\tReturns a centered string: \",str.center())\n",
    "print(\"\tSearches the string for a specified value and returns the position of where it was found \",str.isalnum())\n",
    "print(\"\tConverts a string into lower case: \",str.islower())\n",
    "print(\"Splits the string at the specified separator, and returns a list: \",str.split())\n",
    "print(\"length of a string: \",len(str))"
   ]
  },
  {
   "cell_type": "code",
   "execution_count": null,
   "metadata": {},
   "outputs": [],
   "source": []
  },
  {
   "cell_type": "code",
   "execution_count": null,
   "metadata": {},
   "outputs": [],
   "source": []
  },
  {
   "cell_type": "code",
   "execution_count": null,
   "metadata": {},
   "outputs": [],
   "source": []
  },
  {
   "cell_type": "code",
   "execution_count": null,
   "metadata": {},
   "outputs": [],
   "source": []
  },
  {
   "cell_type": "code",
   "execution_count": null,
   "metadata": {},
   "outputs": [],
   "source": []
  },
  {
   "cell_type": "markdown",
   "metadata": {},
   "source": [
    "# maketrans() with one argument\n"
   ]
  },
  {
   "cell_type": "code",
   "execution_count": null,
   "metadata": {},
   "outputs": [],
   "source": [
    "\n",
    "s = 'ABCDBCA'\n",
    "\n",
    "translation = s.maketrans({ord('A'): 'a', ord('B'): ord('b')})  # single argument as dict\n",
    "print(s.translate(translation)) \n",
    "#Python String translate() with manual mapping\n",
    "\n",
    "s = 'ABCDBCA'\n",
    "\n",
    "print(s.translate({ord('A'): ord('a'), ord('B'): ord('b'), ord('C'): None}))\n",
    "print(s.translate({ord('A'): 'X', ord('B'): 'YZ', ord('C'): None}))\n",
    "\n",
    "#indexing of string\n",
    "print(str[1])\n",
    "#negative indexing\n",
    "print(str[-1])"
   ]
  },
  {
   "cell_type": "markdown",
   "metadata": {},
   "source": [
    "# Simple Index Based Formatting"
   ]
  },
  {
   "cell_type": "code",
   "execution_count": null,
   "metadata": {},
   "outputs": [],
   "source": [
    "print(\"My Name is {0}\".format(\"Gunjan\"))\n",
    "print(\"I like {0} and {1}\".format(\"Java\", \"Python\"))\n",
    "# same as above\n",
    "print(\"I like {} and {}\".format(\"Java\", \"Python\"))\n",
    "# index can be in any order\n",
    "print(\"I like {1} and {0}\".format(\"Java\", \"Python\"))"
   ]
  },
  {
   "cell_type": "markdown",
   "metadata": {},
   "source": [
    "# string slicing"
   ]
  },
  {
   "cell_type": "code",
   "execution_count": 1,
   "metadata": {},
   "outputs": [],
   "source": [
    "string=\"I am a good boy\""
   ]
  },
  {
   "cell_type": "code",
   "execution_count": 3,
   "metadata": {},
   "outputs": [
    {
     "name": "stdout",
     "output_type": "stream",
     "text": [
      "I am a good boy\n",
      "I\n",
      "m a \n",
      " a good boy\n",
      "yob doog a ma I\n"
     ]
    }
   ],
   "source": [
    "print(string)\n",
    "print(string[0])\n",
    "print(string[3:7])\n",
    "print(string[4:])\n",
    "print(string[::-1])"
   ]
  },
  {
   "cell_type": "markdown",
   "metadata": {},
   "source": [
    "# type casting"
   ]
  },
  {
   "cell_type": "code",
   "execution_count": 4,
   "metadata": {},
   "outputs": [
    {
     "name": "stdin",
     "output_type": "stream",
     "text": [
      "Enter a number:  23\n"
     ]
    },
    {
     "name": "stdout",
     "output_type": "stream",
     "text": [
      "232323\n",
      "69\n"
     ]
    }
   ],
   "source": [
    "s=input(\"Enter a number: \")\n",
    "print(s*3)\n",
    "print(int(s)*3)"
   ]
  },
  {
   "cell_type": "code",
   "execution_count": null,
   "metadata": {},
   "outputs": [],
   "source": []
  }
 ],
 "metadata": {
  "kernelspec": {
   "display_name": "Python 3",
   "language": "python",
   "name": "python3"
  },
  "language_info": {
   "codemirror_mode": {
    "name": "ipython",
    "version": 3
   },
   "file_extension": ".py",
   "mimetype": "text/x-python",
   "name": "python",
   "nbconvert_exporter": "python",
   "pygments_lexer": "ipython3",
   "version": "3.7.3"
  }
 },
 "nbformat": 4,
 "nbformat_minor": 2
}
